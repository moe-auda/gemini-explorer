{
  "nbformat": 4,
  "nbformat_minor": 0,
  "metadata": {
    "colab": {
      "provenance": []
    },
    "kernelspec": {
      "name": "python3",
      "display_name": "Python 3"
    },
    "language_info": {
      "name": "python"
    }
  },
  "cells": [
    {
      "cell_type": "code",
      "source": [
        "from oauth2client.client import OAuth2WebServerFlow\n",
        "from googleapiclient.discovery import build\n",
        "import httplib2"
      ],
      "metadata": {
        "id": "H4zjggGG8Vry"
      },
      "execution_count": 1,
      "outputs": []
    },
    {
      "cell_type": "code",
      "source": [
        "#{\"installed\":{\"client_id\":\"1046683026864-v5ocqf6bo5ktqqccfm0jimfbvpn1440p.apps.googleusercontent.com\",\"project_id\":\"sigma-nimbus-385123\",\"auth_uri\":\"https://accounts.google.com/o/oauth2/auth\",\"token_uri\":\"https://oauth2.googleapis.com/token\",\"auth_provider_x509_cert_url\":\"https://www.googleapis.com/oauth2/v1/certs\",\"client_secret\":\"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\",\"redirect_uris\":[\"http://localhost\"]}}"
      ],
      "metadata": {
        "id": "wG499A_LEDPC"
      },
      "execution_count": 2,
      "outputs": []
    },
    {
      "cell_type": "code",
      "source": [
        "# Define scopes and credentials\n",
        "SCOPES = 'https://www.googleapis.com/auth/webmasters.readonly'\n",
        "CLIENT_ID = \"1046683026864-v5ocqf6bo5ktqqccfm0jimfbvpn1440p.apps.googleusercontent.com\"\n",
        "CLIENT_SECRET = \"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\"\n",
        "REDIRECT_URI = 'urn:ietf:wg:oauth:2.0:oob'\n",
        "\n",
        "flow = OAuth2WebServerFlow(CLIENT_ID, CLIENT_SECRET, SCOPES, REDIRECT_URI)"
      ],
      "metadata": {
        "colab": {
          "base_uri": "https://localhost:8080/"
        },
        "id": "kDxrQUM2G62i",
        "outputId": "fb451f40-d6e2-4e36-dd24-38057a88e835"
      },
      "execution_count": 3,
      "outputs": [
        {
          "output_type": "stream",
          "name": "stderr",
          "text": [
            "WARNING:oauth2client._helpers:__init__() takes at most 4 positional arguments (5 given)\n"
          ]
        }
      ]
    },
    {
      "cell_type": "code",
      "source": [
        "auth_url = flow.step1_get_authorize_url()"
      ],
      "metadata": {
        "id": "SiYQCh-SG9ZH"
      },
      "execution_count": 4,
      "outputs": []
    },
    {
      "cell_type": "code",
      "source": [
        "print(\"Please go to the following URL and authorize access:\")\n",
        "print(auth_url)"
      ],
      "metadata": {
        "colab": {
          "base_uri": "https://localhost:8080/"
        },
        "id": "90qPWku9JT2i",
        "outputId": "8aa515d6-16b6-4552-ed60-518a78d0a241"
      },
      "execution_count": 5,
      "outputs": [
        {
          "output_type": "stream",
          "name": "stdout",
          "text": [
            "Please go to the following URL and authorize access:\n",
            "https://accounts.google.com/o/oauth2/v2/auth?client_id=1046683026864-v5ocqf6bo5ktqqccfm0jimfbvpn1440p.apps.googleusercontent.com&redirect_uri=urn%3Aietf%3Awg%3Aoauth%3A2.0%3Aoob&scope=https%3A%2F%2Fwww.googleapis.com%2Fauth%2Fwebmasters.readonly&access_type=offline&response_type=code\n"
          ]
        }
      ]
    },
    {
      "cell_type": "code",
      "source": [
        "authorization_code = input(\"Enter the authorization code: \")\n"
      ],
      "metadata": {
        "colab": {
          "base_uri": "https://localhost:8080/"
        },
        "id": "GoMLTgowL_Se",
        "outputId": "7319f4fa-b9b5-4f00-fe4e-e51b1b1b3e3e"
      },
      "execution_count": 6,
      "outputs": [
        {
          "name": "stdout",
          "output_type": "stream",
          "text": [
            "Enter the authorization code: 4/1AfJohXmaQSs-58DQWus7LVHW3yt6lt8az2d0ucoytqzo45jrs2r6rNBua-w\n"
          ]
        }
      ]
    },
    {
      "cell_type": "code",
      "source": [
        "#get credentials to build GSC API service\n",
        "credentials = flow.step2_exchange(authorization_code)\n",
        "print(\"The credentials are generated successfully\")"
      ],
      "metadata": {
        "colab": {
          "base_uri": "https://localhost:8080/"
        },
        "id": "pFMWbSfZRcgs",
        "outputId": "935b61ec-9b3c-491e-c9d0-e873a2d1b2bf"
      },
      "execution_count": 7,
      "outputs": [
        {
          "output_type": "stream",
          "name": "stdout",
          "text": [
            "The credentials are generated successfully\n"
          ]
        }
      ]
    },
    {
      "cell_type": "markdown",
      "source": [],
      "metadata": {
        "id": "pHtc0PwDV86L"
      }
    },
    {
      "cell_type": "code",
      "source": [
        "#creating http object and authorize it with our credentials\n",
        "http = httplib2.Http()\n",
        "\n",
        "creds = credentials.authorize(http)\n",
        "\n",
        "#building a service to access various features of GSC API\n",
        "webmasters_service = build(\"searchconsole\", 'v1', http=creds)"
      ],
      "metadata": {
        "id": "x2pUPw4TSlzX"
      },
      "execution_count": 8,
      "outputs": []
    },
    {
      "cell_type": "code",
      "source": [
        "# Execute the sites().list() method to retrieve a list of sites\n",
        "sites_list_response = webmasters_service.sites().list().execute()\n",
        "\n",
        "# Print the list of sites\n",
        "print(sites_list_response)\n"
      ],
      "metadata": {
        "colab": {
          "base_uri": "https://localhost:8080/"
        },
        "id": "EoGzcvK-WhbO",
        "outputId": "0fabf638-31e0-4f05-d23b-52aa695c512f"
      },
      "execution_count": 9,
      "outputs": [
        {
          "output_type": "stream",
          "name": "stdout",
          "text": [
            "{'siteEntry': [{'siteUrl': 'sc-domain:pressreader.com', 'permissionLevel': 'siteOwner'}, {'siteUrl': 'https://about.pressreader.com/', 'permissionLevel': 'siteOwner'}, {'siteUrl': 'https://blog.pressreader.com/', 'permissionLevel': 'siteOwner'}, {'siteUrl': 'https://www.pressreader.com/', 'permissionLevel': 'siteOwner'}]}\n"
          ]
        }
      ]
    },
    {
      "cell_type": "markdown",
      "source": [
        "# **How to Extract Sitemap Data?**"
      ],
      "metadata": {
        "id": "KcVPzmGKtqHr"
      }
    },
    {
      "cell_type": "code",
      "source": [
        "website = 'https://www.pressreader.com/'\n",
        "\n",
        "sitemap_data = webmasters_service.sitemaps().list(siteUrl=website).execute()"
      ],
      "metadata": {
        "id": "JR8iYQ7FQsLJ"
      },
      "execution_count": 10,
      "outputs": []
    },
    {
      "cell_type": "code",
      "source": [
        "sitemap_data"
      ],
      "metadata": {
        "id": "kvTIvfMETI0j"
      },
      "execution_count": null,
      "outputs": []
    },
    {
      "cell_type": "markdown",
      "source": [
        "# **How to Extract Search Analytics Data?:**"
      ],
      "metadata": {
        "id": "zL1m9U370FfJ"
      }
    },
    {
      "cell_type": "code",
      "source": [
        "# Query parameters\n",
        "site_url = 'https://www.pressreader.com'  # Your site's URL\n",
        "start_date = '2024-01-01'\n",
        "end_date = '2024-01-29'\n",
        "dimensions = ['Date', 'Page']\n",
        "search_type = 'web'\n",
        "row_limit = 10  # Number of rows to limit in the response\n",
        "\n",
        "# Fetch data\n",
        "response = webmasters_service.searchanalytics().query(siteUrl=site_url, body={\n",
        "    'startDate': start_date,\n",
        "    'endDate': end_date,\n",
        "    'dimensions': dimensions,\n",
        "    'searchType': search_type,\n",
        "    'rowLimit': row_limit\n",
        "}).execute()\n",
        "\n"
      ],
      "metadata": {
        "id": "bv60F9k28Ve4"
      },
      "execution_count": null,
      "outputs": []
    },
    {
      "cell_type": "code",
      "source": [
        "len(response['rows'])"
      ],
      "metadata": {
        "colab": {
          "base_uri": "https://localhost:8080/"
        },
        "id": "p3GUrfA8-stI",
        "outputId": "ff9f3976-36ff-4dcd-af36-cb43ab311406"
      },
      "execution_count": 18,
      "outputs": [
        {
          "output_type": "execute_result",
          "data": {
            "text/plain": [
              "10"
            ]
          },
          "metadata": {},
          "execution_count": 18
        }
      ]
    },
    {
      "cell_type": "code",
      "source": [
        "# Print response\n",
        "for each in response[\"rows\"]:\n",
        "  print(each)"
      ],
      "metadata": {
        "colab": {
          "base_uri": "https://localhost:8080/"
        },
        "id": "CpgcAxPC-sTx",
        "outputId": "413df395-03ea-422d-c137-71546a77f22c"
      },
      "execution_count": 19,
      "outputs": [
        {
          "output_type": "stream",
          "name": "stdout",
          "text": [
            "{'keys': ['2024-01-29', 'https://www.pressreader.com/'], 'clicks': 2088, 'impressions': 9019, 'ctr': 0.2315112540192926, 'position': 24.32320656392061}\n",
            "{'keys': ['2024-01-22', 'https://www.pressreader.com/'], 'clicks': 1974, 'impressions': 9978, 'ctr': 0.1978352375225496, 'position': 27.722489476849066}\n",
            "{'keys': ['2024-01-10', 'https://www.pressreader.com/'], 'clicks': 1961, 'impressions': 10150, 'ctr': 0.19320197044334975, 'position': 31.04906403940887}\n",
            "{'keys': ['2024-01-24', 'https://www.pressreader.com/'], 'clicks': 1946, 'impressions': 9014, 'ctr': 0.21588639893499, 'position': 26.931107166629687}\n",
            "{'keys': ['2024-01-09', 'https://www.pressreader.com/'], 'clicks': 1945, 'impressions': 10739, 'ctr': 0.1811155601080175, 'position': 32.26054567464382}\n",
            "{'keys': ['2024-01-18', 'https://www.pressreader.com/'], 'clicks': 1934, 'impressions': 9064, 'ctr': 0.21337157987643424, 'position': 25.25728155339806}\n",
            "{'keys': ['2024-01-23', 'https://www.pressreader.com/'], 'clicks': 1931, 'impressions': 9922, 'ctr': 0.1946180205603709, 'position': 27.33209030437412}\n",
            "{'keys': ['2024-01-25', 'https://www.pressreader.com/'], 'clicks': 1920, 'impressions': 8381, 'ctr': 0.22908960744541224, 'position': 25.133277651831524}\n",
            "{'keys': ['2024-01-11', 'https://www.pressreader.com/'], 'clicks': 1893, 'impressions': 10215, 'ctr': 0.1853157121879589, 'position': 30.495349975526185}\n",
            "{'keys': ['2024-01-17', 'https://www.pressreader.com/'], 'clicks': 1889, 'impressions': 8918, 'ctr': 0.21181879345144652, 'position': 26.562794348508636}\n"
          ]
        }
      ]
    },
    {
      "cell_type": "markdown",
      "source": [
        "# **How to Extract +25000 Rows of Search Analytics Data?:**"
      ],
      "metadata": {
        "id": "naQSZR5XBX-l"
      }
    },
    {
      "cell_type": "code",
      "source": [
        "# Empty list to append all rows\n",
        "all_responses = []\n",
        "\n",
        "# Defining a starting row\n",
        "startRow = 0\n",
        "\n",
        "while (startRow == 0) or (startRow%25000 == 0):\n",
        "  # Query parameters\n",
        "  site_url = 'https://www.pressreader.com'  # Your site's URL\n",
        "  start_date = '2022-10-06'\n",
        "  end_date = '2024-01-17'\n",
        "  dimensions = ['Date', 'Page']\n",
        "  search_type = 'web'\n",
        "  row_limit = 25000  # Number of rows to limit in the response\n",
        "\n",
        "  # Fetch data\n",
        "  response = webmasters_service.searchanalytics().query(siteUrl=site_url, body={\n",
        "      'startDate': start_date,\n",
        "      'endDate': end_date,\n",
        "      'dimensions': dimensions,\n",
        "      'searchType': search_type,\n",
        "      'rowLimit': row_limit,\n",
        "      'startRow': startRow\n",
        "  }).execute()\n",
        "\n",
        "  # Update the rows\n",
        "  startRow = startRow + len(response['rows'])\n",
        "  print(\"fetched up to \" + str(startRow) + \" rows of data\")\n",
        "\n",
        "  # for loop to append all rows to all_responses\n",
        "  for row in response['rows']:\n",
        "    all_responses.append(row)"
      ],
      "metadata": {
        "colab": {
          "base_uri": "https://localhost:8080/"
        },
        "id": "WohcW0RyBhEi",
        "outputId": "daef2c2d-e91c-47c1-df10-7724728570fb"
      },
      "execution_count": 38,
      "outputs": [
        {
          "output_type": "stream",
          "name": "stdout",
          "text": [
            "fetched up to 25000 rows of data\n",
            "fetched up to 50000 rows of data\n",
            "fetched up to 75000 rows of data\n",
            "fetched up to 100000 rows of data\n",
            "fetched up to 125000 rows of data\n",
            "fetched up to 150000 rows of data\n",
            "fetched up to 175000 rows of data\n",
            "fetched up to 200000 rows of data\n",
            "fetched up to 225000 rows of data\n",
            "fetched up to 250000 rows of data\n",
            "fetched up to 275000 rows of data\n",
            "fetched up to 300000 rows of data\n",
            "fetched up to 325000 rows of data\n",
            "fetched up to 350000 rows of data\n",
            "fetched up to 375000 rows of data\n",
            "fetched up to 400000 rows of data\n",
            "fetched up to 425000 rows of data\n",
            "fetched up to 450000 rows of data\n",
            "fetched up to 475000 rows of data\n",
            "fetched up to 500000 rows of data\n",
            "fetched up to 525000 rows of data\n",
            "fetched up to 550000 rows of data\n",
            "fetched up to 575000 rows of data\n",
            "fetched up to 600000 rows of data\n",
            "fetched up to 625000 rows of data\n",
            "fetched up to 650000 rows of data\n",
            "fetched up to 675000 rows of data\n",
            "fetched up to 700000 rows of data\n",
            "fetched up to 725000 rows of data\n",
            "fetched up to 750000 rows of data\n",
            "fetched up to 775000 rows of data\n",
            "fetched up to 800000 rows of data\n",
            "fetched up to 825000 rows of data\n",
            "fetched up to 850000 rows of data\n",
            "fetched up to 875000 rows of data\n",
            "fetched up to 900000 rows of data\n",
            "fetched up to 925000 rows of data\n",
            "fetched up to 950000 rows of data\n",
            "fetched up to 975000 rows of data\n",
            "fetched up to 1000000 rows of data\n",
            "fetched up to 1025000 rows of data\n",
            "fetched up to 1050000 rows of data\n",
            "fetched up to 1075000 rows of data\n",
            "fetched up to 1100000 rows of data\n",
            "fetched up to 1125000 rows of data\n",
            "fetched up to 1150000 rows of data\n",
            "fetched up to 1175000 rows of data\n",
            "fetched up to 1200000 rows of data\n",
            "fetched up to 1225000 rows of data\n",
            "fetched up to 1250000 rows of data\n",
            "fetched up to 1275000 rows of data\n",
            "fetched up to 1300000 rows of data\n",
            "fetched up to 1325000 rows of data\n",
            "fetched up to 1350000 rows of data\n",
            "fetched up to 1375000 rows of data\n",
            "fetched up to 1400000 rows of data\n",
            "fetched up to 1425000 rows of data\n",
            "fetched up to 1450000 rows of data\n",
            "fetched up to 1475000 rows of data\n",
            "fetched up to 1500000 rows of data\n",
            "fetched up to 1525000 rows of data\n",
            "fetched up to 1550000 rows of data\n",
            "fetched up to 1575000 rows of data\n",
            "fetched up to 1600000 rows of data\n",
            "fetched up to 1625000 rows of data\n",
            "fetched up to 1650000 rows of data\n",
            "fetched up to 1675000 rows of data\n",
            "fetched up to 1700000 rows of data\n",
            "fetched up to 1725000 rows of data\n",
            "fetched up to 1750000 rows of data\n",
            "fetched up to 1775000 rows of data\n",
            "fetched up to 1800000 rows of data\n",
            "fetched up to 1825000 rows of data\n",
            "fetched up to 1850000 rows of data\n",
            "fetched up to 1875000 rows of data\n",
            "fetched up to 1900000 rows of data\n",
            "fetched up to 1925000 rows of data\n",
            "fetched up to 1950000 rows of data\n",
            "fetched up to 1975000 rows of data\n",
            "fetched up to 2000000 rows of data\n",
            "fetched up to 2025000 rows of data\n",
            "fetched up to 2050000 rows of data\n",
            "fetched up to 2075000 rows of data\n",
            "fetched up to 2100000 rows of data\n",
            "fetched up to 2125000 rows of data\n",
            "fetched up to 2150000 rows of data\n",
            "fetched up to 2175000 rows of data\n",
            "fetched up to 2200000 rows of data\n",
            "fetched up to 2225000 rows of data\n",
            "fetched up to 2250000 rows of data\n",
            "fetched up to 2275000 rows of data\n",
            "fetched up to 2300000 rows of data\n",
            "fetched up to 2325000 rows of data\n",
            "fetched up to 2342525 rows of data\n"
          ]
        }
      ]
    },
    {
      "cell_type": "code",
      "source": [
        "len(all_responses)"
      ],
      "metadata": {
        "colab": {
          "base_uri": "https://localhost:8080/"
        },
        "id": "4F-nEBQyFvV_",
        "outputId": "c0d2fe0c-050a-496e-b3d3-3d658e6e4029"
      },
      "execution_count": 22,
      "outputs": [
        {
          "output_type": "execute_result",
          "data": {
            "text/plain": [
              "144802"
            ]
          },
          "metadata": {},
          "execution_count": 22
        }
      ]
    },
    {
      "cell_type": "code",
      "source": [
        "all_responses[0]"
      ],
      "metadata": {
        "colab": {
          "base_uri": "https://localhost:8080/"
        },
        "id": "cjSo1BxZG969",
        "outputId": "ff3d91e0-2bf9-4fc6-966e-6e1c60877907"
      },
      "execution_count": 24,
      "outputs": [
        {
          "output_type": "execute_result",
          "data": {
            "text/plain": [
              "{'keys': ['2024-01-29', 'https://www.pressreader.com/'],\n",
              " 'clicks': 2088,\n",
              " 'impressions': 9019,\n",
              " 'ctr': 0.2315112540192926,\n",
              " 'position': 24.32320656392061}"
            ]
          },
          "metadata": {},
          "execution_count": 24
        }
      ]
    },
    {
      "cell_type": "markdown",
      "source": [
        "# **Building a Dataframe Using Pandas**"
      ],
      "metadata": {
        "id": "4dzp2919GZWn"
      }
    },
    {
      "cell_type": "code",
      "source": [
        "import pandas as pd"
      ],
      "metadata": {
        "id": "y-yWHAj4GjBW"
      },
      "execution_count": 28,
      "outputs": []
    },
    {
      "cell_type": "code",
      "source": [
        "df = pd.DataFrame({'A': [1, 2, 3]})"
      ],
      "metadata": {
        "id": "uuhmlZkIGnlN"
      },
      "execution_count": 30,
      "outputs": []
    },
    {
      "cell_type": "code",
      "source": [
        "df"
      ],
      "metadata": {
        "colab": {
          "base_uri": "https://localhost:8080/",
          "height": 143
        },
        "id": "lG_YCvQ9LrDP",
        "outputId": "e28b5f4f-a03b-4aaa-b967-e0139fcfd127"
      },
      "execution_count": 31,
      "outputs": [
        {
          "output_type": "execute_result",
          "data": {
            "text/plain": [
              "   A\n",
              "0  1\n",
              "1  2\n",
              "2  3"
            ],
            "text/html": [
              "\n",
              "  <div id=\"df-3de47d3d-651b-47d3-af78-5553447461ea\" class=\"colab-df-container\">\n",
              "    <div>\n",
              "<style scoped>\n",
              "    .dataframe tbody tr th:only-of-type {\n",
              "        vertical-align: middle;\n",
              "    }\n",
              "\n",
              "    .dataframe tbody tr th {\n",
              "        vertical-align: top;\n",
              "    }\n",
              "\n",
              "    .dataframe thead th {\n",
              "        text-align: right;\n",
              "    }\n",
              "</style>\n",
              "<table border=\"1\" class=\"dataframe\">\n",
              "  <thead>\n",
              "    <tr style=\"text-align: right;\">\n",
              "      <th></th>\n",
              "      <th>A</th>\n",
              "    </tr>\n",
              "  </thead>\n",
              "  <tbody>\n",
              "    <tr>\n",
              "      <th>0</th>\n",
              "      <td>1</td>\n",
              "    </tr>\n",
              "    <tr>\n",
              "      <th>1</th>\n",
              "      <td>2</td>\n",
              "    </tr>\n",
              "    <tr>\n",
              "      <th>2</th>\n",
              "      <td>3</td>\n",
              "    </tr>\n",
              "  </tbody>\n",
              "</table>\n",
              "</div>\n",
              "    <div class=\"colab-df-buttons\">\n",
              "\n",
              "  <div class=\"colab-df-container\">\n",
              "    <button class=\"colab-df-convert\" onclick=\"convertToInteractive('df-3de47d3d-651b-47d3-af78-5553447461ea')\"\n",
              "            title=\"Convert this dataframe to an interactive table.\"\n",
              "            style=\"display:none;\">\n",
              "\n",
              "  <svg xmlns=\"http://www.w3.org/2000/svg\" height=\"24px\" viewBox=\"0 -960 960 960\">\n",
              "    <path d=\"M120-120v-720h720v720H120Zm60-500h600v-160H180v160Zm220 220h160v-160H400v160Zm0 220h160v-160H400v160ZM180-400h160v-160H180v160Zm440 0h160v-160H620v160ZM180-180h160v-160H180v160Zm440 0h160v-160H620v160Z\"/>\n",
              "  </svg>\n",
              "    </button>\n",
              "\n",
              "  <style>\n",
              "    .colab-df-container {\n",
              "      display:flex;\n",
              "      gap: 12px;\n",
              "    }\n",
              "\n",
              "    .colab-df-convert {\n",
              "      background-color: #E8F0FE;\n",
              "      border: none;\n",
              "      border-radius: 50%;\n",
              "      cursor: pointer;\n",
              "      display: none;\n",
              "      fill: #1967D2;\n",
              "      height: 32px;\n",
              "      padding: 0 0 0 0;\n",
              "      width: 32px;\n",
              "    }\n",
              "\n",
              "    .colab-df-convert:hover {\n",
              "      background-color: #E2EBFA;\n",
              "      box-shadow: 0px 1px 2px rgba(60, 64, 67, 0.3), 0px 1px 3px 1px rgba(60, 64, 67, 0.15);\n",
              "      fill: #174EA6;\n",
              "    }\n",
              "\n",
              "    .colab-df-buttons div {\n",
              "      margin-bottom: 4px;\n",
              "    }\n",
              "\n",
              "    [theme=dark] .colab-df-convert {\n",
              "      background-color: #3B4455;\n",
              "      fill: #D2E3FC;\n",
              "    }\n",
              "\n",
              "    [theme=dark] .colab-df-convert:hover {\n",
              "      background-color: #434B5C;\n",
              "      box-shadow: 0px 1px 3px 1px rgba(0, 0, 0, 0.15);\n",
              "      filter: drop-shadow(0px 1px 2px rgba(0, 0, 0, 0.3));\n",
              "      fill: #FFFFFF;\n",
              "    }\n",
              "  </style>\n",
              "\n",
              "    <script>\n",
              "      const buttonEl =\n",
              "        document.querySelector('#df-3de47d3d-651b-47d3-af78-5553447461ea button.colab-df-convert');\n",
              "      buttonEl.style.display =\n",
              "        google.colab.kernel.accessAllowed ? 'block' : 'none';\n",
              "\n",
              "      async function convertToInteractive(key) {\n",
              "        const element = document.querySelector('#df-3de47d3d-651b-47d3-af78-5553447461ea');\n",
              "        const dataTable =\n",
              "          await google.colab.kernel.invokeFunction('convertToInteractive',\n",
              "                                                    [key], {});\n",
              "        if (!dataTable) return;\n",
              "\n",
              "        const docLinkHtml = 'Like what you see? Visit the ' +\n",
              "          '<a target=\"_blank\" href=https://colab.research.google.com/notebooks/data_table.ipynb>data table notebook</a>'\n",
              "          + ' to learn more about interactive tables.';\n",
              "        element.innerHTML = '';\n",
              "        dataTable['output_type'] = 'display_data';\n",
              "        await google.colab.output.renderOutput(dataTable, element);\n",
              "        const docLink = document.createElement('div');\n",
              "        docLink.innerHTML = docLinkHtml;\n",
              "        element.appendChild(docLink);\n",
              "      }\n",
              "    </script>\n",
              "  </div>\n",
              "\n",
              "\n",
              "<div id=\"df-610add40-a74b-499a-9828-0f6e6679a3f5\">\n",
              "  <button class=\"colab-df-quickchart\" onclick=\"quickchart('df-610add40-a74b-499a-9828-0f6e6679a3f5')\"\n",
              "            title=\"Suggest charts\"\n",
              "            style=\"display:none;\">\n",
              "\n",
              "<svg xmlns=\"http://www.w3.org/2000/svg\" height=\"24px\"viewBox=\"0 0 24 24\"\n",
              "     width=\"24px\">\n",
              "    <g>\n",
              "        <path d=\"M19 3H5c-1.1 0-2 .9-2 2v14c0 1.1.9 2 2 2h14c1.1 0 2-.9 2-2V5c0-1.1-.9-2-2-2zM9 17H7v-7h2v7zm4 0h-2V7h2v10zm4 0h-2v-4h2v4z\"/>\n",
              "    </g>\n",
              "</svg>\n",
              "  </button>\n",
              "\n",
              "<style>\n",
              "  .colab-df-quickchart {\n",
              "      --bg-color: #E8F0FE;\n",
              "      --fill-color: #1967D2;\n",
              "      --hover-bg-color: #E2EBFA;\n",
              "      --hover-fill-color: #174EA6;\n",
              "      --disabled-fill-color: #AAA;\n",
              "      --disabled-bg-color: #DDD;\n",
              "  }\n",
              "\n",
              "  [theme=dark] .colab-df-quickchart {\n",
              "      --bg-color: #3B4455;\n",
              "      --fill-color: #D2E3FC;\n",
              "      --hover-bg-color: #434B5C;\n",
              "      --hover-fill-color: #FFFFFF;\n",
              "      --disabled-bg-color: #3B4455;\n",
              "      --disabled-fill-color: #666;\n",
              "  }\n",
              "\n",
              "  .colab-df-quickchart {\n",
              "    background-color: var(--bg-color);\n",
              "    border: none;\n",
              "    border-radius: 50%;\n",
              "    cursor: pointer;\n",
              "    display: none;\n",
              "    fill: var(--fill-color);\n",
              "    height: 32px;\n",
              "    padding: 0;\n",
              "    width: 32px;\n",
              "  }\n",
              "\n",
              "  .colab-df-quickchart:hover {\n",
              "    background-color: var(--hover-bg-color);\n",
              "    box-shadow: 0 1px 2px rgba(60, 64, 67, 0.3), 0 1px 3px 1px rgba(60, 64, 67, 0.15);\n",
              "    fill: var(--button-hover-fill-color);\n",
              "  }\n",
              "\n",
              "  .colab-df-quickchart-complete:disabled,\n",
              "  .colab-df-quickchart-complete:disabled:hover {\n",
              "    background-color: var(--disabled-bg-color);\n",
              "    fill: var(--disabled-fill-color);\n",
              "    box-shadow: none;\n",
              "  }\n",
              "\n",
              "  .colab-df-spinner {\n",
              "    border: 2px solid var(--fill-color);\n",
              "    border-color: transparent;\n",
              "    border-bottom-color: var(--fill-color);\n",
              "    animation:\n",
              "      spin 1s steps(1) infinite;\n",
              "  }\n",
              "\n",
              "  @keyframes spin {\n",
              "    0% {\n",
              "      border-color: transparent;\n",
              "      border-bottom-color: var(--fill-color);\n",
              "      border-left-color: var(--fill-color);\n",
              "    }\n",
              "    20% {\n",
              "      border-color: transparent;\n",
              "      border-left-color: var(--fill-color);\n",
              "      border-top-color: var(--fill-color);\n",
              "    }\n",
              "    30% {\n",
              "      border-color: transparent;\n",
              "      border-left-color: var(--fill-color);\n",
              "      border-top-color: var(--fill-color);\n",
              "      border-right-color: var(--fill-color);\n",
              "    }\n",
              "    40% {\n",
              "      border-color: transparent;\n",
              "      border-right-color: var(--fill-color);\n",
              "      border-top-color: var(--fill-color);\n",
              "    }\n",
              "    60% {\n",
              "      border-color: transparent;\n",
              "      border-right-color: var(--fill-color);\n",
              "    }\n",
              "    80% {\n",
              "      border-color: transparent;\n",
              "      border-right-color: var(--fill-color);\n",
              "      border-bottom-color: var(--fill-color);\n",
              "    }\n",
              "    90% {\n",
              "      border-color: transparent;\n",
              "      border-bottom-color: var(--fill-color);\n",
              "    }\n",
              "  }\n",
              "</style>\n",
              "\n",
              "  <script>\n",
              "    async function quickchart(key) {\n",
              "      const quickchartButtonEl =\n",
              "        document.querySelector('#' + key + ' button');\n",
              "      quickchartButtonEl.disabled = true;  // To prevent multiple clicks.\n",
              "      quickchartButtonEl.classList.add('colab-df-spinner');\n",
              "      try {\n",
              "        const charts = await google.colab.kernel.invokeFunction(\n",
              "            'suggestCharts', [key], {});\n",
              "      } catch (error) {\n",
              "        console.error('Error during call to suggestCharts:', error);\n",
              "      }\n",
              "      quickchartButtonEl.classList.remove('colab-df-spinner');\n",
              "      quickchartButtonEl.classList.add('colab-df-quickchart-complete');\n",
              "    }\n",
              "    (() => {\n",
              "      let quickchartButtonEl =\n",
              "        document.querySelector('#df-610add40-a74b-499a-9828-0f6e6679a3f5 button');\n",
              "      quickchartButtonEl.style.display =\n",
              "        google.colab.kernel.accessAllowed ? 'block' : 'none';\n",
              "    })();\n",
              "  </script>\n",
              "</div>\n",
              "    </div>\n",
              "  </div>\n"
            ]
          },
          "metadata": {},
          "execution_count": 31
        }
      ]
    },
    {
      "cell_type": "code",
      "source": [
        "# Empty list for dataframe\n",
        "data_for_df = []\n",
        "\n",
        "for each in all_responses:\n",
        "\n",
        "  temp = []\n",
        "\n",
        "  #date\n",
        "  temp.append(each['keys'][0])\n",
        "\n",
        "  #page\n",
        "  temp.append(each['keys'][1])\n",
        "\n",
        "  #clicks\n",
        "  temp.append(each['clicks'])\n",
        "\n",
        "  #impressions\n",
        "  temp.append(each['impressions'])\n",
        "\n",
        "  #ctr\n",
        "  temp.append(each['ctr'])\n",
        "\n",
        "  #position\n",
        "  temp.append(each['position'])\n",
        "\n",
        "\n",
        "  data_for_df.append(temp)"
      ],
      "metadata": {
        "id": "OCnxdoVVLtiE"
      },
      "execution_count": 39,
      "outputs": []
    },
    {
      "cell_type": "code",
      "source": [
        "data_for_df[0]"
      ],
      "metadata": {
        "colab": {
          "base_uri": "https://localhost:8080/"
        },
        "id": "exRU0pA9NMhm",
        "outputId": "a25dad96-582a-428e-e2f4-481b33f117ef"
      },
      "execution_count": 34,
      "outputs": [
        {
          "output_type": "execute_result",
          "data": {
            "text/plain": [
              "['2024-01-29',\n",
              " 'https://www.pressreader.com/',\n",
              " 2088,\n",
              " 9019,\n",
              " 0.2315112540192926,\n",
              " 24.32320656392061]"
            ]
          },
          "metadata": {},
          "execution_count": 34
        }
      ]
    },
    {
      "cell_type": "code",
      "source": [
        "df = pd.DataFrame(data_for_df, columns=[\"Date\", \"Page\", \"Clicks\", \"Impressions\", \"CTR\", \"Position\"])"
      ],
      "metadata": {
        "id": "lHE5unXcQm3F"
      },
      "execution_count": 40,
      "outputs": []
    },
    {
      "cell_type": "code",
      "source": [
        "df"
      ],
      "metadata": {
        "colab": {
          "base_uri": "https://localhost:8080/",
          "height": 423
        },
        "id": "jBD-mVqzRIAa",
        "outputId": "89b12bf2-7cc5-4fd1-fec7-a60db1e11818"
      },
      "execution_count": 41,
      "outputs": [
        {
          "output_type": "execute_result",
          "data": {
            "text/plain": [
              "               Date                                               Page  \\\n",
              "0        2023-01-24  https://www.pressreader.com/uk/the-chronicle/2...   \n",
              "1        2023-01-30  https://www.pressreader.com/usa/globe/20230123...   \n",
              "2        2022-10-23  https://www.pressreader.com/mexico/la-i-de-maz...   \n",
              "3        2022-10-24  https://www.pressreader.com/mexico/la-i-de-maz...   \n",
              "4        2022-10-09  https://www.pressreader.com/mexico/la-i-de-maz...   \n",
              "...             ...                                                ...   \n",
              "2342520  2024-01-17  https://www.pressreader.com/zimbabwe/the-heral...   \n",
              "2342521  2024-01-17  https://www.pressreader.com/zimbabwe/the-manic...   \n",
              "2342522  2024-01-17  https://www.pressreader.com/zimbabwe/the-sunda...   \n",
              "2342523  2024-01-17  https://www.pressreader.com/zimbabwe/the-sunda...   \n",
              "2342524  2024-01-17  https://www.pressreader.com/zimbabwe/the-zimba...   \n",
              "\n",
              "         Clicks  Impressions       CTR   Position  \n",
              "0          7311        59531  0.122810   6.777511  \n",
              "1          5471        19737  0.277195   3.465572  \n",
              "2          4423        39617  0.111644   4.950728  \n",
              "3          4291        39096  0.109755   5.621905  \n",
              "4          4141        36856  0.112356   4.195491  \n",
              "...         ...          ...       ...        ...  \n",
              "2342520       2           13  0.153846  23.230769  \n",
              "2342521       2           34  0.058824   6.235294  \n",
              "2342522       2           12  0.166667  13.333333  \n",
              "2342523       2           22  0.090909   8.545455  \n",
              "2342524       2           10  0.200000   8.100000  \n",
              "\n",
              "[2342525 rows x 6 columns]"
            ],
            "text/html": [
              "\n",
              "  <div id=\"df-87a374ad-3fb2-4887-b60f-74d5de85cd91\" class=\"colab-df-container\">\n",
              "    <div>\n",
              "<style scoped>\n",
              "    .dataframe tbody tr th:only-of-type {\n",
              "        vertical-align: middle;\n",
              "    }\n",
              "\n",
              "    .dataframe tbody tr th {\n",
              "        vertical-align: top;\n",
              "    }\n",
              "\n",
              "    .dataframe thead th {\n",
              "        text-align: right;\n",
              "    }\n",
              "</style>\n",
              "<table border=\"1\" class=\"dataframe\">\n",
              "  <thead>\n",
              "    <tr style=\"text-align: right;\">\n",
              "      <th></th>\n",
              "      <th>Date</th>\n",
              "      <th>Page</th>\n",
              "      <th>Clicks</th>\n",
              "      <th>Impressions</th>\n",
              "      <th>CTR</th>\n",
              "      <th>Position</th>\n",
              "    </tr>\n",
              "  </thead>\n",
              "  <tbody>\n",
              "    <tr>\n",
              "      <th>0</th>\n",
              "      <td>2023-01-24</td>\n",
              "      <td>https://www.pressreader.com/uk/the-chronicle/2...</td>\n",
              "      <td>7311</td>\n",
              "      <td>59531</td>\n",
              "      <td>0.122810</td>\n",
              "      <td>6.777511</td>\n",
              "    </tr>\n",
              "    <tr>\n",
              "      <th>1</th>\n",
              "      <td>2023-01-30</td>\n",
              "      <td>https://www.pressreader.com/usa/globe/20230123...</td>\n",
              "      <td>5471</td>\n",
              "      <td>19737</td>\n",
              "      <td>0.277195</td>\n",
              "      <td>3.465572</td>\n",
              "    </tr>\n",
              "    <tr>\n",
              "      <th>2</th>\n",
              "      <td>2022-10-23</td>\n",
              "      <td>https://www.pressreader.com/mexico/la-i-de-maz...</td>\n",
              "      <td>4423</td>\n",
              "      <td>39617</td>\n",
              "      <td>0.111644</td>\n",
              "      <td>4.950728</td>\n",
              "    </tr>\n",
              "    <tr>\n",
              "      <th>3</th>\n",
              "      <td>2022-10-24</td>\n",
              "      <td>https://www.pressreader.com/mexico/la-i-de-maz...</td>\n",
              "      <td>4291</td>\n",
              "      <td>39096</td>\n",
              "      <td>0.109755</td>\n",
              "      <td>5.621905</td>\n",
              "    </tr>\n",
              "    <tr>\n",
              "      <th>4</th>\n",
              "      <td>2022-10-09</td>\n",
              "      <td>https://www.pressreader.com/mexico/la-i-de-maz...</td>\n",
              "      <td>4141</td>\n",
              "      <td>36856</td>\n",
              "      <td>0.112356</td>\n",
              "      <td>4.195491</td>\n",
              "    </tr>\n",
              "    <tr>\n",
              "      <th>...</th>\n",
              "      <td>...</td>\n",
              "      <td>...</td>\n",
              "      <td>...</td>\n",
              "      <td>...</td>\n",
              "      <td>...</td>\n",
              "      <td>...</td>\n",
              "    </tr>\n",
              "    <tr>\n",
              "      <th>2342520</th>\n",
              "      <td>2024-01-17</td>\n",
              "      <td>https://www.pressreader.com/zimbabwe/the-heral...</td>\n",
              "      <td>2</td>\n",
              "      <td>13</td>\n",
              "      <td>0.153846</td>\n",
              "      <td>23.230769</td>\n",
              "    </tr>\n",
              "    <tr>\n",
              "      <th>2342521</th>\n",
              "      <td>2024-01-17</td>\n",
              "      <td>https://www.pressreader.com/zimbabwe/the-manic...</td>\n",
              "      <td>2</td>\n",
              "      <td>34</td>\n",
              "      <td>0.058824</td>\n",
              "      <td>6.235294</td>\n",
              "    </tr>\n",
              "    <tr>\n",
              "      <th>2342522</th>\n",
              "      <td>2024-01-17</td>\n",
              "      <td>https://www.pressreader.com/zimbabwe/the-sunda...</td>\n",
              "      <td>2</td>\n",
              "      <td>12</td>\n",
              "      <td>0.166667</td>\n",
              "      <td>13.333333</td>\n",
              "    </tr>\n",
              "    <tr>\n",
              "      <th>2342523</th>\n",
              "      <td>2024-01-17</td>\n",
              "      <td>https://www.pressreader.com/zimbabwe/the-sunda...</td>\n",
              "      <td>2</td>\n",
              "      <td>22</td>\n",
              "      <td>0.090909</td>\n",
              "      <td>8.545455</td>\n",
              "    </tr>\n",
              "    <tr>\n",
              "      <th>2342524</th>\n",
              "      <td>2024-01-17</td>\n",
              "      <td>https://www.pressreader.com/zimbabwe/the-zimba...</td>\n",
              "      <td>2</td>\n",
              "      <td>10</td>\n",
              "      <td>0.200000</td>\n",
              "      <td>8.100000</td>\n",
              "    </tr>\n",
              "  </tbody>\n",
              "</table>\n",
              "<p>2342525 rows × 6 columns</p>\n",
              "</div>\n",
              "    <div class=\"colab-df-buttons\">\n",
              "\n",
              "  <div class=\"colab-df-container\">\n",
              "    <button class=\"colab-df-convert\" onclick=\"convertToInteractive('df-87a374ad-3fb2-4887-b60f-74d5de85cd91')\"\n",
              "            title=\"Convert this dataframe to an interactive table.\"\n",
              "            style=\"display:none;\">\n",
              "\n",
              "  <svg xmlns=\"http://www.w3.org/2000/svg\" height=\"24px\" viewBox=\"0 -960 960 960\">\n",
              "    <path d=\"M120-120v-720h720v720H120Zm60-500h600v-160H180v160Zm220 220h160v-160H400v160Zm0 220h160v-160H400v160ZM180-400h160v-160H180v160Zm440 0h160v-160H620v160ZM180-180h160v-160H180v160Zm440 0h160v-160H620v160Z\"/>\n",
              "  </svg>\n",
              "    </button>\n",
              "\n",
              "  <style>\n",
              "    .colab-df-container {\n",
              "      display:flex;\n",
              "      gap: 12px;\n",
              "    }\n",
              "\n",
              "    .colab-df-convert {\n",
              "      background-color: #E8F0FE;\n",
              "      border: none;\n",
              "      border-radius: 50%;\n",
              "      cursor: pointer;\n",
              "      display: none;\n",
              "      fill: #1967D2;\n",
              "      height: 32px;\n",
              "      padding: 0 0 0 0;\n",
              "      width: 32px;\n",
              "    }\n",
              "\n",
              "    .colab-df-convert:hover {\n",
              "      background-color: #E2EBFA;\n",
              "      box-shadow: 0px 1px 2px rgba(60, 64, 67, 0.3), 0px 1px 3px 1px rgba(60, 64, 67, 0.15);\n",
              "      fill: #174EA6;\n",
              "    }\n",
              "\n",
              "    .colab-df-buttons div {\n",
              "      margin-bottom: 4px;\n",
              "    }\n",
              "\n",
              "    [theme=dark] .colab-df-convert {\n",
              "      background-color: #3B4455;\n",
              "      fill: #D2E3FC;\n",
              "    }\n",
              "\n",
              "    [theme=dark] .colab-df-convert:hover {\n",
              "      background-color: #434B5C;\n",
              "      box-shadow: 0px 1px 3px 1px rgba(0, 0, 0, 0.15);\n",
              "      filter: drop-shadow(0px 1px 2px rgba(0, 0, 0, 0.3));\n",
              "      fill: #FFFFFF;\n",
              "    }\n",
              "  </style>\n",
              "\n",
              "    <script>\n",
              "      const buttonEl =\n",
              "        document.querySelector('#df-87a374ad-3fb2-4887-b60f-74d5de85cd91 button.colab-df-convert');\n",
              "      buttonEl.style.display =\n",
              "        google.colab.kernel.accessAllowed ? 'block' : 'none';\n",
              "\n",
              "      async function convertToInteractive(key) {\n",
              "        const element = document.querySelector('#df-87a374ad-3fb2-4887-b60f-74d5de85cd91');\n",
              "        const dataTable =\n",
              "          await google.colab.kernel.invokeFunction('convertToInteractive',\n",
              "                                                    [key], {});\n",
              "        if (!dataTable) return;\n",
              "\n",
              "        const docLinkHtml = 'Like what you see? Visit the ' +\n",
              "          '<a target=\"_blank\" href=https://colab.research.google.com/notebooks/data_table.ipynb>data table notebook</a>'\n",
              "          + ' to learn more about interactive tables.';\n",
              "        element.innerHTML = '';\n",
              "        dataTable['output_type'] = 'display_data';\n",
              "        await google.colab.output.renderOutput(dataTable, element);\n",
              "        const docLink = document.createElement('div');\n",
              "        docLink.innerHTML = docLinkHtml;\n",
              "        element.appendChild(docLink);\n",
              "      }\n",
              "    </script>\n",
              "  </div>\n",
              "\n",
              "\n",
              "<div id=\"df-64655c29-527c-4d17-990c-6575a194e24f\">\n",
              "  <button class=\"colab-df-quickchart\" onclick=\"quickchart('df-64655c29-527c-4d17-990c-6575a194e24f')\"\n",
              "            title=\"Suggest charts\"\n",
              "            style=\"display:none;\">\n",
              "\n",
              "<svg xmlns=\"http://www.w3.org/2000/svg\" height=\"24px\"viewBox=\"0 0 24 24\"\n",
              "     width=\"24px\">\n",
              "    <g>\n",
              "        <path d=\"M19 3H5c-1.1 0-2 .9-2 2v14c0 1.1.9 2 2 2h14c1.1 0 2-.9 2-2V5c0-1.1-.9-2-2-2zM9 17H7v-7h2v7zm4 0h-2V7h2v10zm4 0h-2v-4h2v4z\"/>\n",
              "    </g>\n",
              "</svg>\n",
              "  </button>\n",
              "\n",
              "<style>\n",
              "  .colab-df-quickchart {\n",
              "      --bg-color: #E8F0FE;\n",
              "      --fill-color: #1967D2;\n",
              "      --hover-bg-color: #E2EBFA;\n",
              "      --hover-fill-color: #174EA6;\n",
              "      --disabled-fill-color: #AAA;\n",
              "      --disabled-bg-color: #DDD;\n",
              "  }\n",
              "\n",
              "  [theme=dark] .colab-df-quickchart {\n",
              "      --bg-color: #3B4455;\n",
              "      --fill-color: #D2E3FC;\n",
              "      --hover-bg-color: #434B5C;\n",
              "      --hover-fill-color: #FFFFFF;\n",
              "      --disabled-bg-color: #3B4455;\n",
              "      --disabled-fill-color: #666;\n",
              "  }\n",
              "\n",
              "  .colab-df-quickchart {\n",
              "    background-color: var(--bg-color);\n",
              "    border: none;\n",
              "    border-radius: 50%;\n",
              "    cursor: pointer;\n",
              "    display: none;\n",
              "    fill: var(--fill-color);\n",
              "    height: 32px;\n",
              "    padding: 0;\n",
              "    width: 32px;\n",
              "  }\n",
              "\n",
              "  .colab-df-quickchart:hover {\n",
              "    background-color: var(--hover-bg-color);\n",
              "    box-shadow: 0 1px 2px rgba(60, 64, 67, 0.3), 0 1px 3px 1px rgba(60, 64, 67, 0.15);\n",
              "    fill: var(--button-hover-fill-color);\n",
              "  }\n",
              "\n",
              "  .colab-df-quickchart-complete:disabled,\n",
              "  .colab-df-quickchart-complete:disabled:hover {\n",
              "    background-color: var(--disabled-bg-color);\n",
              "    fill: var(--disabled-fill-color);\n",
              "    box-shadow: none;\n",
              "  }\n",
              "\n",
              "  .colab-df-spinner {\n",
              "    border: 2px solid var(--fill-color);\n",
              "    border-color: transparent;\n",
              "    border-bottom-color: var(--fill-color);\n",
              "    animation:\n",
              "      spin 1s steps(1) infinite;\n",
              "  }\n",
              "\n",
              "  @keyframes spin {\n",
              "    0% {\n",
              "      border-color: transparent;\n",
              "      border-bottom-color: var(--fill-color);\n",
              "      border-left-color: var(--fill-color);\n",
              "    }\n",
              "    20% {\n",
              "      border-color: transparent;\n",
              "      border-left-color: var(--fill-color);\n",
              "      border-top-color: var(--fill-color);\n",
              "    }\n",
              "    30% {\n",
              "      border-color: transparent;\n",
              "      border-left-color: var(--fill-color);\n",
              "      border-top-color: var(--fill-color);\n",
              "      border-right-color: var(--fill-color);\n",
              "    }\n",
              "    40% {\n",
              "      border-color: transparent;\n",
              "      border-right-color: var(--fill-color);\n",
              "      border-top-color: var(--fill-color);\n",
              "    }\n",
              "    60% {\n",
              "      border-color: transparent;\n",
              "      border-right-color: var(--fill-color);\n",
              "    }\n",
              "    80% {\n",
              "      border-color: transparent;\n",
              "      border-right-color: var(--fill-color);\n",
              "      border-bottom-color: var(--fill-color);\n",
              "    }\n",
              "    90% {\n",
              "      border-color: transparent;\n",
              "      border-bottom-color: var(--fill-color);\n",
              "    }\n",
              "  }\n",
              "</style>\n",
              "\n",
              "  <script>\n",
              "    async function quickchart(key) {\n",
              "      const quickchartButtonEl =\n",
              "        document.querySelector('#' + key + ' button');\n",
              "      quickchartButtonEl.disabled = true;  // To prevent multiple clicks.\n",
              "      quickchartButtonEl.classList.add('colab-df-spinner');\n",
              "      try {\n",
              "        const charts = await google.colab.kernel.invokeFunction(\n",
              "            'suggestCharts', [key], {});\n",
              "      } catch (error) {\n",
              "        console.error('Error during call to suggestCharts:', error);\n",
              "      }\n",
              "      quickchartButtonEl.classList.remove('colab-df-spinner');\n",
              "      quickchartButtonEl.classList.add('colab-df-quickchart-complete');\n",
              "    }\n",
              "    (() => {\n",
              "      let quickchartButtonEl =\n",
              "        document.querySelector('#df-64655c29-527c-4d17-990c-6575a194e24f button');\n",
              "      quickchartButtonEl.style.display =\n",
              "        google.colab.kernel.accessAllowed ? 'block' : 'none';\n",
              "    })();\n",
              "  </script>\n",
              "</div>\n",
              "    </div>\n",
              "  </div>\n"
            ]
          },
          "metadata": {},
          "execution_count": 41
        }
      ]
    },
    {
      "cell_type": "markdown",
      "source": [
        "# **Export to Excel of CSV**"
      ],
      "metadata": {
        "id": "WJLuUN5vRO4Z"
      }
    },
    {
      "cell_type": "code",
      "source": [
        "df.to_excel('data.xlsx')"
      ],
      "metadata": {
        "id": "CQKFzFkPROYj"
      },
      "execution_count": null,
      "outputs": []
    },
    {
      "cell_type": "code",
      "source": [
        "df.to_csv('data.csv')"
      ],
      "metadata": {
        "id": "8Vx4SjO0RYzD"
      },
      "execution_count": 42,
      "outputs": []
    }
  ]
}